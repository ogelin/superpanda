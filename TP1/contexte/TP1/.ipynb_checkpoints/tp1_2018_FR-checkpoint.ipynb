{
 "cells": [
  {
   "cell_type": "markdown",
   "metadata": {
    "colab_type": "text",
    "id": "7cRcaduOsoAJ"
   },
   "source": [
    "# INF 8215 - Intelligence artif.: méthodes et algorithmes \n",
    "## Automne 2018 - TP1 - Méthodes de recherche \n",
    "### Membres de l'équipe\n",
    "    - Laura Gagliano 1741329\n",
    "    - Olivia Gélinas 1784417\n",
    "    - Vincent Proulx-Meunier 1399037\n",
    "\n"
   ]
  },
  {
   "cell_type": "markdown",
   "metadata": {
    "colab_type": "text",
    "id": "GoJ5Y8SZsoAM"
   },
   "source": [
    "## LE VÉLO À MONTRÉAL\n",
    "Chaque année, Montréal accueille à peu près 10 millions de touristes. Soucieuse de la qualité de leur séjour, Tourisme Montréal a entamé un projet de développement d’une nouvelle application mobile afin d’assister les touristes lors de leurs déplacements dans la ville. Cette application a pour but d’aider l’utilisateur à planifier sa visite des importantes attractions de la ville, de la façon la plus efficace possible (ie, sur la durée la plus courte). Étant donné qu’il a été observé que le moyen de transport privilégié des touristes pour explorer Montréal est le vélo, cette application a pour but de générer des circuits cyclables de durée minimale. Plus précisément, étant donné une liste d’attractions munie de points de départ et d’arrivée, la tâche est de proposer, à chaque fois, un chemin qui passe par toutes les attractions indiquées une seule fois, qui débute au point de départ et qui s’achève au point d’arrivée et dont la durée de trajet est minimale.\n",
    "\n",
    "<img src=\"images/montreal.png\" alt=\"\" width=\"800\"/>\n",
    "\n",
    "Le travail demandé dans ce TP est de développer l’algorithme interne de l’application. Nous explorerons trois mécanismes de résolution différents :\n",
    "1. Définition et exploration naïve d’un arbre de recherche\n",
    "2. Exploration plus efficace en utilisant l’algorithme A*\n",
    "3. Optimisation locale en utilisant une métaheuristique de recherche à voisinage variable (Variable Neighborhood Search, VNS)\n",
    "\n",
    "## PRÉSENTATION DU PROBLÈME\n",
    "Une façon naturelle de représenter notre problème est d’utiliser un graphe $G=(V, A)$ dirigé et complet. Chaque sommet dans $V$ est une attraction donnée et chaque arc dans $A$ représente une piste cyclable entre deux attractions distinctes. Chaque paire de sommets $i$ et $j$ est reliée par une paire d’arcs $a_{ij}$ et $a_{ji}$ dont les poids respectifs $w(a_{ij})$ et $w(a_{ji})$ ne sont pas nécessairement égaux. Concrètement, ces poids représentent la durée du trajet d’un sommet à l’autre (ainsi, $w$ est telle que $w : A \\to\\mathbb R^+$).\n",
    "\n",
    "La liste des attractions à visiter est indiquée comme la suite $P = (p_1, ..., p_m)$ où $p_1$ et $p_m$ sont les sommets de départ et d’arrivée, respectivement.\n",
    "\n",
    "## 1. DÉFINITION ET EXPLORATION NAÏVE D’UN ARBRE DE RECHERCHE (5 points)\n",
    "Définissons un arbre de recherche $\\mathcal{T}$ où chaque nœud représente une solution partielle $S$. Soient $V(S) \\subseteq V$ et $A(S) \\subset A$ l’ensemble des sommets visités et l’ensemble des arêtes sélectionnées, respectivement. Ainsi, le coût d’une solution est donné par :\n",
    "$$g(S) = \\sum_{a \\in A(S)} w(a)$$\n",
    "\n",
    "Seule l’origine est visitée initialement. Ainsi, la racine de l’arbre de recherche contient une solution partielle vide $S_{\\textrm{root}}$ telle que $V(S_{\\textrm{root}})=\\{p_1\\}$ et $A(S_{\\textrm{root}}) = \\emptyset$.\n",
    "\n",
    "<img src=\"images/tree1.png\" alt=\"\" width=\"100\"/>\n",
    "\n",
    "À la suite de cela, les nœuds subséquents dans l’arbre sont tous créés en ajoutant, à chaque solution partielle $S$, un sommet subséquent dans $P\\backslash V(S)$ avec l’arc correspondant dans $A$ qui relie ce sommet à la dernière attraction visitée. Le sommet $p_m$ n’est ajouté qu’à la fin, lorsqu’il est le seul sommet non encore visité. Plus formellement, si on note le sommet à ajouter $c$ et le dernier sommet visité $c'$, alors la nouvelle solution partielle obtenue est $V(S) \\gets V(S) \\cup \\{c\\}$ et $A(S) \\gets A(S) \\cup \\{(c’,c)\\}$.\n",
    "\n",
    "Ci-dessous est un exemple de l’arbre étendu depuis sa racine où $c'$ = $p_1$ :\n",
    "\n",
    "<img src=\"images/tree2.png\" alt=\"\" width=\"400\"/>\n",
    "\n",
    "À la fin, les feuilles de l’arbre sont des solutions complètes :\n",
    "\n",
    "<img src=\"images/tree3.png\" alt=\"\" width=\"600\"/>\n",
    "\n",
    "### 1.1 Code\n",
    "La fonction fournie ci-dessous permet d’extraire d’un fichier un graphe qui répond aux spécifications détaillées plus haut. Cette fonction retourne une $\\texttt{ndarray}$ ($\\texttt{graph}$) de taille $|V|\\times |V|$ où $\\texttt{graph[i,j]}$ représente le temps nécessaire pour traverser la piste cyclable de $i$ vers $j$.\n",
    "\n"
   ]
  },
  {
   "cell_type": "code",
   "execution_count": 1,
   "metadata": {},
   "outputs": [],
   "source": [
    "import numpy as np\n",
    "\n",
    "def read_graph():\n",
    "    return np.loadtxt(\"montreal\", dtype='i', delimiter=',')\n",
    "\n",
    "graph = read_graph()"
   ]
  },
  {
   "cell_type": "markdown",
   "metadata": {},
   "source": [
    "Notre première tâche est de définir la classe qui représente une solution partielle. Son constructeur est donné et reçoit comme argument la liste des sommets (attractions $P$) à visiter et le graphe ($G$). Celui-ci crée la solution $S_{\\textrm{root}}$ avec les attributs suivants :\n",
    "- $\\texttt{g}$ : le coût de la solution partielle\n",
    "- $\\texttt{visited}$ : représente $V(S)$, discuté plus haut. Par définition, $\\mathtt{vistited[-1]}$ représente le dernier sommet ajouté, $ c $.\n",
    "- $\\texttt{not}\\_\\texttt{visited}$ : représente $P\\backslash V(S)$\n",
    "- $\\texttt{graph}$: représente le graphe G\n",
    "\n",
    "Ensuite, il est demandé d’implanter la méthode $\\texttt{add}$ qui mets à jour la solution partielle en ajoutant une nouvelle attraction à visiter parmi la liste $\\texttt{not}\\_\\texttt{visited}$. Cette méthode reçoit comme arguments l’index du sommet à visiter parmi $\\texttt{not}\\_\\texttt{visited}$.\n",
    "\n",
    "Implantez $\\texttt{add}$ :"
   ]
  },
  {
   "cell_type": "code",
   "execution_count": 44,
   "metadata": {},
   "outputs": [],
   "source": [
    "import copy\n",
    "\n",
    "class Solution:\n",
    "    def __init__(self, places, graph, Q2_estimation=None):\n",
    "        \"\"\"\n",
    "        places: a list containing the indices of attractions to visit\n",
    "        p1 = places[0]     est le sommet de départ.\n",
    "        pm = places[-1]    est le sommet d'arrivé.\n",
    "        \"\"\"\n",
    "        #Init : Créer la solution racine (S_root)\n",
    "        self.g = 0  # current cost\n",
    "        self.graph = graph\n",
    "        self.visited = [places[0]]  # list of already visited attractions\n",
    "        self.not_visited = copy.deepcopy(places[1:])  # list of attractions not yet visited\n",
    "        #Attributs ajoutés à la question 2.\n",
    "        self.h = 0\n",
    "        self.Q2_estimation = Q2_estimation\n",
    "    \n",
    "    #Surchargé l'opérateur <\n",
    "    def __lt__(self, other):\n",
    "        return self.g + self.h < other.g + other.h\n",
    "\n",
    "    def add(self, idx):\n",
    "        \"\"\"\n",
    "        Adds the point in position idx of not_visited list to the solution\n",
    "        \"\"\"\n",
    "        current_place = self.visited[-1] #get the last place\n",
    "        next_place = places[idx]\n",
    "        self.g += self.graph[current_place,next_place]\n",
    "        self.visited.append(next_place)\n",
    "        self.not_visited.remove(next_place)\n",
    "        if self.Q2_estimation == \"dijkstra\":\n",
    "            self.h = fastest_path_estimation(self)\n",
    "        elif self.Q2_estimation == \"edmonds\":\n",
    "            self.h = minimum_spanning_arborescence(self)\n",
    "        else:\n",
    "            self.h = 0\n",
    "        \n",
    "    def swap(self, index1, index2):\n",
    "        self.visited[index1], self.visited[index2] = self.visited[index2], self.visited[index1]\n",
    "        self.g = 0\n",
    "        for i in range (len(self.visited)-1):\n",
    "            self.g += self.graph[self.visited[i], self.visited[i+1]]"
   ]
  },
  {
   "cell_type": "markdown",
   "metadata": {},
   "source": [
    "La prochaine étape est d’implanter une stratégie de parcours de l’arbre de recherche. Une première méthode simple est naïve est de mettre en œuvre une recherche en largeur ([Breadth-first search](https://moodle.polymtl.ca/pluginfile.php/444662/mod_resource/content/1/recherche_en_largeur.mp4), BFS).\n",
    "\n",
    "Implantez $\\texttt{bfs}$ qui mets en œuvre cette recherche. Elle prend en arguments le graphe courant ainsi que la liste des attractions à visiter $P$ et elle retourne la meilleure solution trouvée."
   ]
  },
  {
   "cell_type": "code",
   "execution_count": 5,
   "metadata": {},
   "outputs": [],
   "source": [
    "from queue import Queue\n",
    "\n",
    "def bfs(graph, places):\n",
    "    \"\"\"\n",
    "    Returns the best solution which spans over all attractions indicated in 'places'\n",
    "    \"\"\"\n",
    "    solution = Solution(places, graph)\n",
    "    frontier = Queue()\n",
    "    final_solution = None\n",
    "    frontier.put(solution)\n",
    "    while frontier.qsize() > 0:\n",
    "        current_sol = frontier.get()\n",
    "        if current_sol.visited[-1] == places[-1]:\n",
    "            if final_solution is None or current_sol.g < final_solution.g:\n",
    "                final_solution = current_sol\n",
    "        else:\n",
    "            for attraction in current_sol.not_visited[:-1]:\n",
    "                new_sol = copy.deepcopy(current_sol)\n",
    "                new_sol.add(places.index(attraction))\n",
    "                frontier.put(new_sol)\n",
    "            if len(current_sol.not_visited) == 1:\n",
    "                new_sol = copy.deepcopy(current_sol)\n",
    "                new_sol.add(places.index(current_sol.not_visited[0]))\n",
    "                frontier.put(new_sol)\n",
    "    return final_solution"
   ]
  },
  {
   "cell_type": "markdown",
   "metadata": {},
   "source": [
    "### 1.2 Expérimentations\n",
    "\n",
    "On propose trois exemples d’illustration pour tester notre recherche en largeur. Le premier exemple prend en compte 7 attractions, le second 10 et le dernier 11. Vu que cette recherche énumère toutes les solutions possibles, le troisième exemple risque de prendre un temps considérable à s’achever.\n",
    "\n",
    "Mettez en œuvre ces expériences et notez le nombre de nœuds explorés ainsi que le temps de calcul requis."
   ]
  },
  {
   "cell_type": "code",
   "execution_count": 6,
   "metadata": {
    "colab": {},
    "colab_type": "code",
    "id": "H1lFkJPJBcR3"
   },
   "outputs": [
    {
     "name": "stdout",
     "output_type": "stream",
     "text": [
      "27\n",
      "--- 0.05188393592834473 seconds ---\n"
     ]
    }
   ],
   "source": [
    "import time \n",
    "\n",
    "#test 1  --------------  OPT. SOL. = 27\n",
    "start_time = time.time()\n",
    "places=[0, 5, 13, 16, 6, 9, 4]\n",
    "sol = bfs(graph=graph, places=places)\n",
    "print(sol.g)\n",
    "print(\"--- %s seconds ---\" % (time.time() - start_time))"
   ]
  },
  {
   "cell_type": "code",
   "execution_count": 7,
   "metadata": {
    "colab": {},
    "colab_type": "code",
    "id": "Yn9mUPhBB9hv"
   },
   "outputs": [
    {
     "name": "stdout",
     "output_type": "stream",
     "text": [
      "30\n",
      "--- 17.449820041656494 seconds ---\n"
     ]
    }
   ],
   "source": [
    "#test 2 -------------- OPT. SOL. = 30\n",
    "start_time = time.time()\n",
    "places=[0, 1, 4, 9, 20, 18, 16, 5, 13, 19]\n",
    "sol = bfs(graph=graph, places=places)\n",
    "print(sol.g)\n",
    "print(\"--- %s seconds ---\" % (time.time() - start_time))"
   ]
  },
  {
   "cell_type": "code",
   "execution_count": 8,
   "metadata": {},
   "outputs": [
    {
     "name": "stdout",
     "output_type": "stream",
     "text": [
      "26\n",
      "--- 198.2555010318756 seconds ---\n"
     ]
    }
   ],
   "source": [
    "#test 3 -------------- OPT. SOL. = 26\n",
    "start_time = time.time()\n",
    "places=[0, 2, 7, 13, 11, 16, 15, 7, 9, 8, 4]\n",
    "sol = bfs(graph=graph, places=places)\n",
    "print(sol.g)\n",
    "print(\"--- %s seconds ---\" % (time.time() - start_time))"
   ]
  },
  {
   "cell_type": "markdown",
   "metadata": {},
   "source": [
    "## 2. RECHERCHE GUIDÉE À L’AIDE DE L’ALGORITHME A\\* (7.5 points)\n",
    "Pour notre deuxième méthode de recherche, au lieu d’énumérer toutes les solutions possibles, nous effectuons une recherche guidée à l’aide de l’algorithme A\\*. Comme vu en classe, A\\* est une recherche où les nœuds à explorer sont priorisés en fonction du coût courant d’une solution $g(S)$ ainsi que d’une estimation du coût restant vers la solution finale donné par une heuristique $h(S)$.\n",
    "\n",
    "Dans le cas d’une minimisation, $h(S)$ est une borne inférieure du coût réel restant et on priorise l’exploration des nœuds dont $f(S) = g(S)+h(S)$ est le plus petit. Avec cette méthode, la première solution complète trouvée est assurément la solution optimale.\n",
    "\n",
    "Pour une solution donnée $S$ avec un dernier sommet visité $c$, une possible fonction $h$ est telle que :\n",
    "\n",
    "$h(S) =$ Le poids du chemin le plus court entre $c$ et $p_m$ dans le sous graphe $G_S$ contenant les sommets $P\\backslash V(S) \\cup \\{c\\}$\n",
    "\n",
    "Remarque que ce chemin le plus court utilisé dans le calcul de l’estimation $h$ entre l’attraction courante et l’arrivée ne passera pas nécessairement pas tous les sommets restants.\n",
    "\n",
    "\n",
    "Notre algorithme A\\* se présente comme ceci :\n",
    "1. Définir l’arbre de recherche $\\mathcal{T}$ exactement comme auparavant. Le calcul de $h$ pour la solution initiale est inutile : c’est la seule solution qu’on a.\n",
    "2. Sélectionner le meilleur nœud candidat pour expansion. La solution partielle $S_b$ de ce nœud candidat est telle que :\n",
    "\n",
    "   $$ f(S_b) \\leq f(S) \\quad \\forall S \\in \\mathcal{T} \\qquad S_B, S \\text{ pas encore sélectionnés}$$\n",
    "\n",
    "   Si $S_b$ est une solution complète, l’algorithme s’arrête et $S_b$ est assurément la solution optimale, sinon on continue à l’étape 3.\n",
    "3. Créer des solutions subséquentes qui connectent la dernière attraction visitée à chacune des attractions restantes. Attention, on ignore l’arrivée tant que celle-ci n’est pas la seule qui reste.\n",
    " - Mettez à jour les listes des sommets visités et non visités\n",
    " - Calculez $g$ et $h$ pour chaque solution\n",
    " - Insérer la nouvelle solution partielle dans l’arbre.\n",
    "4. Répéter 2 et 3.\n",
    "\n",
    "\n",
    "### 2.1 Code\n",
    "Commençons d’abord par compléter la classe $\\texttt{Solution}$ pour prendre en compte les changements nécessaires à A\\* (on a besoin notamment d’un attribut supplémentaire pour l’estimation $h$).\n",
    "\n",
    "On verra plus tard que A\\* s’implante à l’aide d’une file de priorité (priority queue). Pour que celle-ci marche, il est nécessaire de surcharger (overload) l’opérateur de comparaison « < » relatif à nos objets $\\texttt{Solution}$. En sachant ce qui fait qu'une solution est meilleure qu’une autre pour l'exploration, implanter la méthode $\\_\\_\\texttt{lt}\\_\\_$ dans $\\texttt{Solution}$. Son prototype est $\\_\\_\\texttt{lt}\\_\\_\\texttt{(self, other)}$.\n",
    "\n",
    "Maintenant, nous devons implanter la fonction d’estimation $h$. Pour cela, on utilise l’[algorithme de Dijkstra](https://en.wikipedia.org/wiki/Dijkstra%27s_algorithm) pour trouver le chemin le plus court entre la dernière attraction visitée $c$ et l’arrivée $p_m$. Il est possible d’adapter cet algorithme pour qu’il s’arrête dès que le chemin le plus court entre c et pm est trouvé.\n",
    "\n",
    "**Prescriptions d’implantation :**\n",
    "- Appliquer Dijkstra pour trouver le chemin le plus court entre $c$ et $p_m$\n",
    "- Retourner le poids de ce chemin"
   ]
  },
  {
   "cell_type": "code",
   "execution_count": 27,
   "metadata": {
    "colab": {},
    "colab_type": "code",
    "id": "PxRTHhZmNEOB"
   },
   "outputs": [],
   "source": [
    "def fastest_path_estimation(sol):\n",
    "    \"\"\"\n",
    "    Returns the time spent on the fastest path between \n",
    "    the current vertex c and the ending vertex pm\n",
    "    \"\"\"\n",
    "    c = sol.visited[-1]\n",
    "    # pm = sol.not_visited[-1]\n",
    "    # define variables\n",
    "    unseenNodes = [0]*(len(sol.not_visited)+1)\n",
    "    unseenNodes[0] = c\n",
    "    unseenNodes[1:] = copy.deepcopy(sol.not_visited)\n",
    "    totalNodes = copy.deepcopy(unseenNodes)\n",
    "    infinity = 9999999\n",
    "    shortest_distance = [infinity]*len(unseenNodes)\n",
    "    #predecessor = [0]*len(unseenNodes)\n",
    "    #initialize variables\n",
    "      \n",
    "    shortest_distance[0] = 0\n",
    "        \n",
    "    #visit each node and update weights for al children\n",
    "    while unseenNodes: # this while visits each node starting from start node\n",
    "        minNode = None\n",
    "        for node in unseenNodes: # this for chooses the unvisisted node with the lowest distance\n",
    "            node_index = totalNodes.index(node)\n",
    "            if minNode is None:\n",
    "                minNode = node\n",
    "                minNode_index = totalNodes.index(minNode)\n",
    "            elif shortest_distance[node_index] < shortest_distance[minNode_index]:\n",
    "                minNode = node\n",
    "                minNode_index = totalNodes.index(minNode)\n",
    "            allNodes = copy.deepcopy(unseenNodes) #each time we visit a node, its children are all the other unseen nodes\n",
    "            popidx = allNodes.index(minNode)\n",
    "            allNodes.pop(popidx)\n",
    "        for childNode in allNodes:\n",
    "            child_weight = sol.graph[minNode,childNode]\n",
    "            childNode_index = totalNodes.index(childNode)\n",
    "            if (child_weight+ shortest_distance[minNode_index]) < shortest_distance[childNode_index]:\n",
    "                shortest_distance[childNode_index] = child_weight + shortest_distance[minNode_index]\n",
    "                # predecessor[childNode_index] = minNode\n",
    "        popidx = unseenNodes.index(minNode)\n",
    "        unseenNodes.pop(popidx)\n",
    "    h = shortest_distance[-1]\n",
    "    return  h"
   ]
  },
  {
   "cell_type": "markdown",
   "metadata": {
    "colab_type": "text",
    "id": "9pjLMOpju-a9"
   },
   "source": [
    "Finalement, il est temps d’implanter A\\*. On aura besoin d’une file de priorité qui retournera toujours le meilleur nœud candidat de $\\mathcal{T}$ pour l’étendre (l’opérateur surchargé de comparaison assure cela).\n",
    "\n",
    "**Prescriptions d’implantation (cf. détail des étapes de l’algorithme plus haut) :**\n",
    "- Tant que les solutions extraites de la file de priorité ne sont pas complètes :\n",
    "  *\tSélectionner et étendre le nœud extrait de la file comme détaillé plus haut\n",
    "  * Calculer $g$ et $h$ pour chaque nouvelle solution partielle obtenue\n",
    "  * Remettre ces solutions dans la file\n",
    "- Retourner la première solution complète extraite de la file (c’est la solution optimale)"
   ]
  },
  {
   "cell_type": "code",
   "execution_count": 35,
   "metadata": {
    "colab": {},
    "colab_type": "code",
    "id": "D6e45uNMvanU"
   },
   "outputs": [],
   "source": [
    "import heapq\n",
    "\n",
    "def A_star(graph, places, Q2_estimation=None):\n",
    "    \"\"\"\n",
    "    Performs the A* algorithm\n",
    "    \"\"\"\n",
    "\n",
    "    # 1. blank solution\n",
    "    root = Solution(graph=graph, places=places, Q2_estimation=Q2_estimation)\n",
    "    # search tree T\n",
    "    T = []\n",
    "    heapq.heapify(T)\n",
    "    heapq.heappush(T, root)\n",
    "    found = False\n",
    "\n",
    "    while not found:\n",
    "        current_sol = heapq.heappop(T)\n",
    "        #print(\"-------\")\n",
    "        #print(current_sol.visited)\n",
    "        #print(current_sol.g + current_sol.h)\n",
    "        #2. g + fastest_path_estimation(sol)\n",
    "        for attraction in current_sol.not_visited[:-1]:\n",
    "            new_sol = copy.deepcopy(current_sol)\n",
    "            new_sol.add(places.index(attraction))\n",
    "            heapq.heappush(T, new_sol)\n",
    "        #S'il reste une seule attraction à visiter.\n",
    "        if len(current_sol.not_visited) == 1:\n",
    "            new_sol = copy.deepcopy(current_sol)\n",
    "            new_sol.add(places.index(current_sol.not_visited[0]))\n",
    "            heapq.heappush(T, new_sol)\n",
    "            found = True\n",
    "            return new_sol\n",
    "    return None"
   ]
  },
  {
   "cell_type": "markdown",
   "metadata": {
    "colab_type": "text",
    "id": "T2NhBa4GsoAP"
   },
   "source": [
    "### 2.2 Expérimentations\n",
    "\n",
    "On ajoute un Quatrième exemple d’exécution avec 15 attractions. Là encore, mettez en œuvre ces expériences avec le nouvel algorithme A\\* conçu et notez le nombre de nœuds explorés ainsi que le temps de calcul requis."
   ]
  },
  {
   "cell_type": "code",
   "execution_count": 48,
   "metadata": {
    "colab": {},
    "colab_type": "code",
    "id": "H1lFkJPJBcR3"
   },
   "outputs": [
    {
     "name": "stdout",
     "output_type": "stream",
     "text": [
      "27\n",
      "[0, 5, 13, 16, 6, 9, 4]\n",
      "dijkstra --- 0.07262516021728516 seconds ---\n",
      "27\n",
      "[0, 5, 13, 16, 6, 9, 4]\n",
      "edmonds --- 0.014784812927246094 seconds ---\n"
     ]
    }
   ],
   "source": [
    "#test 1  --------------  OPT. SOL. = 27\n",
    "places=[0, 5, 13, 16, 6, 9, 4]\n",
    "\n",
    "start_time = time.time()\n",
    "astar_sol = A_star(graph=graph, places=places, Q2_estimation=\"dijkstra\")\n",
    "print(astar_sol.g)\n",
    "print(astar_sol.visited)\n",
    "print(\"dijkstra --- %s seconds ---\" % (time.time() - start_time))\n",
    "\n",
    "start_time = time.time()\n",
    "astar_sol = A_star(graph=graph, places=places, Q2_estimation=\"edmonds\")\n",
    "print(astar_sol.g)\n",
    "print(astar_sol.visited)\n",
    "print(\"edmonds --- %s seconds ---\" % (time.time() - start_time))"
   ]
  },
  {
   "cell_type": "code",
   "execution_count": 49,
   "metadata": {
    "colab": {},
    "colab_type": "code",
    "id": "Yn9mUPhBB9hv"
   },
   "outputs": [
    {
     "name": "stdout",
     "output_type": "stream",
     "text": [
      "30\n",
      "[0, 1, 4, 5, 9, 13, 16, 18, 20, 19]\n",
      "dijkstra --- 1.763775110244751 seconds ---\n",
      "30\n",
      "[0, 1, 4, 5, 9, 13, 16, 18, 20, 19]\n",
      "edmonds --- 0.04855799674987793 seconds ---\n"
     ]
    }
   ],
   "source": [
    "#test 2  --------------  OPT. SOL. = 30\n",
    "places=[0, 1, 4, 9, 20, 18, 16, 5, 13, 19]\n",
    "\n",
    "start_time = time.time()\n",
    "astar_sol = A_star(graph=graph, places=places, Q2_estimation=\"dijkstra\")\n",
    "print(astar_sol.g)\n",
    "print(astar_sol.visited)\n",
    "print(\"dijkstra --- %s seconds ---\" % (time.time() - start_time))\n",
    "\n",
    "start_time = time.time()\n",
    "astar_sol = A_star(graph=graph, places=places, Q2_estimation=\"edmonds\")\n",
    "print(astar_sol.g)\n",
    "print(astar_sol.visited)\n",
    "print(\"edmonds --- %s seconds ---\" % (time.time() - start_time))"
   ]
  },
  {
   "cell_type": "code",
   "execution_count": 50,
   "metadata": {
    "colab": {},
    "colab_type": "code",
    "id": "ZX5SD5CRBfKg"
   },
   "outputs": [
    {
     "name": "stdout",
     "output_type": "stream",
     "text": [
      "26\n",
      "[0, 2, 7, 7, 9, 13, 15, 16, 11, 8, 4]\n",
      "dijkstra --- 3.5348548889160156 seconds ---\n",
      "26\n",
      "[0, 2, 7, 7, 9, 13, 15, 16, 11, 8, 4]\n",
      "edmonds --- 0.09738898277282715 seconds ---\n"
     ]
    }
   ],
   "source": [
    "#test 3  --------------  OPT. SOL. = 26\n",
    "places=[0, 2, 7, 13, 11, 16, 15, 7, 9, 8, 4]\n",
    "\n",
    "start_time = time.time()\n",
    "astar_sol = A_star(graph=graph, places=places, Q2_estimation=\"dijkstra\")\n",
    "print(astar_sol.g)\n",
    "print(astar_sol.visited)\n",
    "print(\"dijkstra --- %s seconds ---\" % (time.time() - start_time))\n",
    "\n",
    "start_time = time.time()\n",
    "astar_sol = A_star(graph=graph, places=places, Q2_estimation=\"edmonds\")\n",
    "print(astar_sol.g)\n",
    "print(astar_sol.visited)\n",
    "print(\"edmonds --- %s seconds ---\" % (time.time() - start_time))"
   ]
  },
  {
   "cell_type": "code",
   "execution_count": 51,
   "metadata": {},
   "outputs": [
    {
     "name": "stdout",
     "output_type": "stream",
     "text": [
      "40\n",
      "[0, 3, 5, 13, 15, 18, 20, 16, 11, 12, 14, 9, 4, 2, 1]\n",
      "dijkstra --- 804.0167961120605 seconds ---\n",
      "40\n",
      "[0, 3, 5, 14, 12, 13, 15, 18, 20, 16, 11, 9, 4, 2, 1]\n",
      "edmonds --- 3.301862955093384 seconds ---\n"
     ]
    }
   ],
   "source": [
    "#test 4  --------------  OPT. SOL. = 40\n",
    "places=[0, 2, 20, 3, 18, 12, 13, 5, 11, 16, 15, 4, 9, 14, 1]\n",
    "\n",
    "start_time = time.time()\n",
    "astar_sol = A_star(graph=graph, places=places, Q2_estimation=\"dijkstra\")\n",
    "print(astar_sol.g)\n",
    "print(astar_sol.visited)\n",
    "print(\"dijkstra --- %s seconds ---\" % (time.time() - start_time))\n",
    "\n",
    "start_time = time.time()\n",
    "astar_sol = A_star(graph=graph, places=places, Q2_estimation=\"edmonds\")\n",
    "print(astar_sol.g)\n",
    "print(astar_sol.visited)\n",
    "print(\"edmonds --- %s seconds ---\" % (time.time() - start_time))"
   ]
  },
  {
   "cell_type": "markdown",
   "metadata": {},
   "source": [
    "### 2.3 Une meilleure borne inférieure\n",
    "\n",
    "Notre algorithme A\\* est déjà beaucoup plus efficace qu’une recherche naïve. Cependant, la qualité de l’heuristique $h$ a un très grand impact sur la vitesse de A\\*. Une heuristique plus serrée devrait accélérer A\\* de façon significative. Notre estimation $h$ basée sur Dijkstra est très large à cause du fait qu’elle ne considère pas toutes les attractions restantes.\n",
    "\n",
    "Une meilleure heuristique pourrait être basée sur la **Spanning Arborescence of Minimum Weight** qui s’apparente à une Minimum Spanning Tree pour graphes orientés. On propose de construire une telle Spanning Arborescence sur le reste des attractions $P\\backslash V(S) \\cup \\{c\\}$. Ici la racine est la dernière attraction visitée $c$. Une façon classique de résoudre ce problème est d’utiliser l’[algorithme de Edmonds](https://en.wikipedia.org/wiki/Edmonds%27_algorithm).\n",
    "\n",
    "Implantez cet algorithme et refaites les expériences avec A\\* en utilisant cette nouvelle heuristique :"
   ]
  },
  {
   "cell_type": "code",
   "execution_count": 43,
   "metadata": {},
   "outputs": [],
   "source": [
    "import sys\n",
    "\n",
    "def _findCycles(n, g, visited=None, cycle=None):\n",
    "    if visited is None:\n",
    "        visited = set()\n",
    "    if cycle is None:\n",
    "        cycle = []\n",
    "    visited.add(n)\n",
    "    cycle += [n]\n",
    "    if n not in g:\n",
    "        return cycle\n",
    "    for e in g[n]:\n",
    "        if e not in visited:\n",
    "            cycle = _findCycles(e,g,visited,cycle)\n",
    "    return cycle\n",
    "\n",
    "def minimum_spanning_arborescence(sol):\n",
    "    \"\"\"\n",
    "    Returns the cost to reach the vertices in the unvisited list \n",
    "    \"\"\"\n",
    "    #step 1: create a dictionary representation of the weighted directed graph\n",
    "    c = sol.visited[-1]\n",
    "    unseenNodes = [0]*(len(sol.not_visited)+1)\n",
    "    unseenNodes[0] = c\n",
    "    unseenNodes[1:] = copy.deepcopy(sol.not_visited)\n",
    "    G= {}\n",
    "    for n in unseenNodes:\n",
    "        G[n] = {}\n",
    "        for v in unseenNodes:\n",
    "            if v == n:\n",
    "                continue\n",
    "            else:\n",
    "                G[n][v] = sol.graph[n,v]\n",
    "                \n",
    "    RG = {}\n",
    "    for src in G:\n",
    "        for (dst,cc) in G[src].items():\n",
    "            if dst in RG:\n",
    "                RG[dst][src] = cc\n",
    "            else:\n",
    "                RG[dst] = { src : cc }\n",
    "    #step 2: create first graph with minumum predecessors for each node   \n",
    "    if c in RG:\n",
    "        RG[c] = {}\n",
    "    g = {}\n",
    "    for n in RG:\n",
    "        if len(RG[n]) == 0:\n",
    "            continue\n",
    "        minimum = sys.maxsize\n",
    "        s,d = None,None\n",
    "        for e in RG[n]:\n",
    "            if RG[n][e] < minimum:\n",
    "                minimum = RG[n][e]\n",
    "                s,d = n,e\n",
    "        if d in g:\n",
    "            g[d][s] = RG[s][d]\n",
    "        else:\n",
    "            g[d] = { s : RG[s][d] }\n",
    "    #step 3: retreive all cycles from initial graph               \n",
    "    cycles = []\n",
    "    visited = set()\n",
    "    for n in g:\n",
    "        if n not in visited:\n",
    "            cycle = _findCycles(n,g,visited)\n",
    "            cycles.append(cycle)\n",
    "\n",
    "    rg = {}\n",
    "    for src2 in g:\n",
    "        for (dst2,cc2) in g[src2].items():\n",
    "            if dst2 in rg:\n",
    "                rg[dst2][src2] = cc2\n",
    "            else:\n",
    "                rg[dst2] = { src2 : cc2 }\n",
    "    #Step 4: colapse all cycles to obtain arborescence graph msa                    \n",
    "    for cycle in cycles:\n",
    "        if c in cycle:\n",
    "            continue\n",
    "        allInEdges = []\n",
    "        minInternal = None\n",
    "        minInternalWeight = sys.maxsize\n",
    "    \n",
    "        # find minimal internal edge weight\n",
    "        for n in cycle:\n",
    "            for e in RG[n]:\n",
    "                if e in cycle:\n",
    "                    if minInternal is None or RG[n][e] < minInternalWeight:\n",
    "                        minInternal = (n,e)\n",
    "                        minInternalWeight = RG[n][e]\n",
    "                        continue\n",
    "                else:\n",
    "                    allInEdges.append((n,e))        \n",
    "    \n",
    "        # find the incoming edge with minimum modified cost\n",
    "        minExternal = None\n",
    "        minModifiedWeight = 0\n",
    "        for s,t in allInEdges:\n",
    "            u,v = rg[s].popitem()\n",
    "            rg[s][u] = v\n",
    "            w = RG[s][t] - (v - minInternalWeight)\n",
    "            if minExternal is None or minModifiedWeight > w:\n",
    "                minExternal = (s,t)\n",
    "                minModifiedWeight = w\n",
    "    \n",
    "        u,w = rg[minExternal[0]].popitem()\n",
    "        rem = (minExternal[0],u)\n",
    "        rg[minExternal[0]].clear()\n",
    "        if minExternal[1] in rg:\n",
    "            rg[minExternal[1]][minExternal[0]] = w\n",
    "        else:\n",
    "            rg[minExternal[1]] = { minExternal[0] : w }\n",
    "        if rem[1] in g:\n",
    "            if rem[0] in g[rem[1]]:\n",
    "                del g[rem[1]][rem[0]]\n",
    "        if minExternal[1] in g:\n",
    "            g[minExternal[1]][minExternal[0]] = w\n",
    "        else:\n",
    "            g[minExternal[1]] = { minExternal[0] : w }\n",
    "    h = 0\n",
    "    msa = g\n",
    "    for node in msa:\n",
    "        for v in msa[node]:\n",
    "            h += msa[node][v]\n",
    "                 \n",
    "    return  h"
   ]
  },
  {
   "cell_type": "markdown",
   "metadata": {
    "colab_type": "text",
    "id": "r9oJnFHbxrvj"
   },
   "source": [
    "## 3. RECHERCHE LOCALE À VOISINAGE VARIABLE  (7.5 points)\n",
    "\n",
    "Cette fois-ci, au lieu de construire une solution optimale depuis une solution vide, on commence d’une solution complète, non-optimale, qu’on améliore à l’aide d’une recherche locale en utilisant une recherche locale à voisinage variable ([Variable Neighborhood Search](https://en.wikipedia.org/wiki/Variable_neighborhood_search), VNS).\n",
    "\n",
    "<img src=\"images/vns.png\" alt=\"\" width=\"800\"/>\n",
    "\n",
    "### 3.1 Code\n",
    "\n",
    "On commence par créer une solution initiale. Celle-ci est une suite ordonnée des attractions de $p_1$ à $p_m$ dans $P$. Pour cela, on fait appel à une [recherche en profondeur (Depth-First Search, DFS)](https://moodle.polymtl.ca/pluginfile.php/445484/mod_resource/content/1/recherche_en_profondeur.mp4) qu’on arrête aussitôt qu’une solution complète est trouvée. Pour aider à diversifier la recherche, la méthode permettant de générer une solution initiale peut être randomisée de telle sorte que l'algorithme VNS puisse lancer la recherche dans différentes régions de l'espace solution. Ainsi, dans la fonction DFS, la sélection de l'enfant pour continuer la recherche doit être aléatoire.\n",
    "\n",
    "**Prescriptions d’implantation :**\n",
    "- Mettre en œuvre une recherche en profondeur\n",
    "- Créer un objet $\\texttt{Solution}$ relatif à cette solution\n",
    "- Ajuster les attributs de cet objet avec les bonnes valeurs de coûts et d’attractions visitées\n",
    "- Retourner la solution trouvée."
   ]
  },
  {
   "cell_type": "code",
   "execution_count": 17,
   "metadata": {
    "colab": {},
    "colab_type": "code",
    "id": "JKx9Z-ayxzSw"
   },
   "outputs": [],
   "source": [
    "import random\n",
    "from random import shuffle, randint\n",
    "\n",
    "def initial_sol(graph, places):\n",
    "    \"\"\"\n",
    "    Return a completed initial solution\n",
    "    \"\"\"\n",
    "    solution = Solution(places, graph)\n",
    "    return dfs(solution, places)\n",
    "\n",
    "def dfs(solution, places):\n",
    "    \"\"\"\n",
    "    Performs a Depth-First Search\n",
    "    \"\"\"\n",
    "    while True:\n",
    "        if len(solution.not_visited) == 1:\n",
    "            solution.add(places.index(solution.not_visited[0]))\n",
    "            return solution\n",
    "        elif len(solution.not_visited[:-1]) == 1:\n",
    "            solution.add(places.index(solution.not_visited[0]))\n",
    "        else:\n",
    "            idx_not_visited = random.randrange(1, len(solution.not_visited[:-1]))\n",
    "            attraction = solution.not_visited[idx_not_visited - 1]\n",
    "            solution.add(places.index(attraction))\n",
    "    return None"
   ]
  },
  {
   "cell_type": "markdown",
   "metadata": {
    "colab_type": "text",
    "id": "JnTFBFqvXpNz"
   },
   "source": [
    "Pour définir une VNS, il faut définir les $k_\\textrm{max}$ voisinages de recherche locale possibles. Pour notre problème, une bonne et simple répartition des voisinages est telle qu’un voisinage $k$ correspond à la permutation de $k$-paires de sommets dans $V(S)$.\n",
    "\n",
    "On appelle **shaking** l’étape de génération d’une solution dans le voisinage $k$. Le travail qui suit correspond à l’implantation de cette étape. $\\texttt{shaking}$ admet 3 arguments que sont la solution de départ, l’indice du voisinage $k$ ainsi que le graph courant.\n",
    "\n",
    "Attention, avant d’implanter $\\texttt{shaking}$, il est nécessaire de créer une méthode $\\texttt{swap}$ dans la classe $\\texttt{Solution}$. Cette méthode permet de mettre en œuvre la permutation dans une solution donnée (en mettant à jour tous les attributs nécessaires pour que la solution soit cohérente).\n",
    "\n",
    "**Prescriptions d’implantation de shaking :**\n",
    "- Sélectionner au hasard deux indices $i$ et $j$ différents et tels que $i, j \\in \\{2,...,m-1\\}$\n",
    "- Faire une copie de la solution courante et faire la permutation\n",
    "- Retourner la solution créée"
   ]
  },
  {
   "cell_type": "code",
   "execution_count": 11,
   "metadata": {
    "colab": {},
    "colab_type": "code",
    "id": "EWLAhZUlfFOZ"
   },
   "outputs": [],
   "source": [
    "def shaking(sol, k):\n",
    "    \"\"\"\n",
    "    Returns a solution on the k-th neighrboohood of sol\n",
    "    \"\"\"\n",
    "    for i in range(k):\n",
    "        index1 = random.randrange(1, len(sol.visited[:-1]))\n",
    "        index2 = random.randrange(1, len(sol.visited[:-1]))\n",
    "        while index1 == index2:\n",
    "            index2 = random.randrange(1, len(sol.visited[:-1]))\n",
    "        sol.swap(index1, index2)\n",
    "    return sol"
   ]
  },
  {
   "cell_type": "markdown",
   "metadata": {
    "colab_type": "text",
    "id": "PD_PxV54sl1o"
   },
   "source": [
    "Une dernière étape essentielle dans une VNS est l’application d’un algorithme de recherche locale à la solution issue du shaking. Pour cela, on propose la recherche locale 2-opt. Celle-ci intervertit deux arcs dans la solution, à la recherche d’une qui est meilleure.\n",
    "\n",
    "Pour un sommet $ i $, soit $ i '$ le successeur immédiat de $ i $ dans la séquence $ V (S) $. L'algorithme 2-opt fonctionne comme suit: pour chaque paire de sommets non consécutifs $ i, j $, vérifiez si en échangeant la position des sommets $ i '$ et $ j $ entraîne une amélioration du coût de la solution. Si oui, effectuez cet échange. Ce processus se répète jusqu'à ce qu'il n'y ait plus d'échanges rentables. On réalise cette opération pour toutes les paires d’arcs éligibles à la recherche du plus petit coût.\n",
    "\n",
    "<img src=\"images/2opt.png\" alt=\"\" width=\"800\"/>\n",
    "\n",
    "<img src=\"images/2opt2.png\" alt=\"\" width=\"800\"/>\n",
    "\n",
    "\n",
    "Implantez $\\texttt{local}\\_\\texttt{search}\\_\\texttt{2opt}$. \n",
    "\n",
    "**Prescriptions d’implantation :**\n",
    "- Considérer chaque paire d’indices $i = \\{2,..,m-3\\}$ and $j = \\{i+2, m-1\\}$\n",
    "- Si l’échange donne un plus bas coût, on le réalise\n",
    "- Répéter jusqu’à optimum local."
   ]
  },
  {
   "cell_type": "code",
   "execution_count": 12,
   "metadata": {
    "colab": {},
    "colab_type": "code",
    "id": "_97d-BQV8tzt"
   },
   "outputs": [],
   "source": [
    "def local_search_2opt(sol):\n",
    "    \"\"\"\n",
    "    Apply 2-opt local search over sol\n",
    "    \"\"\"\n",
    "    current_solution = copy.deepcopy(sol)\n",
    "    index1 = 1\n",
    "    found_local_optimum = False\n",
    "    found_better_cost = False\n",
    "\n",
    "    while not found_local_optimum:\n",
    "        #Considérer chaque pair d'indice i, j\n",
    "        for i in range(index1,len(sol.visited)-3):\n",
    "            for j in range(i+2, len(sol.visited)-1):\n",
    "                if not found_better_cost:\n",
    "                    # Si l’échange donne un plus bas coût, on le réalise\n",
    "                    sol.swap(i,j)\n",
    "                    if sol.g < current_solution.g:\n",
    "                        found_better_cost = True\n",
    "                        break\n",
    "                    else:\n",
    "                        sol.swap(i,j) #swap back.\n",
    "            if found_better_cost:\n",
    "                break\n",
    "\n",
    "        if found_better_cost :\n",
    "            current_solution = copy.deepcopy(sol)\n",
    "            found_better_cost = False\n",
    "        else:\n",
    "            found_local_optimum = True\n",
    "            return current_solution\n"
   ]
  },
  {
   "cell_type": "markdown",
   "metadata": {
    "colab_type": "text",
    "id": "ZPG90m1g_HgA"
   },
   "source": [
    "Finalement, il est temps d'implanter notre VNS. La méthode $\\texttt{vns}$ reçoit une solution complète, le graphe courant, le nombre maximal de voisinages et un temps de calcul limite. Celle-ci retourne la solution optimale trouvée\n",
    "\n",
    "**Prescriptions d’implantation :**\n",
    "- À chaque itération, la VNS génère une solution dans le k-ème voisinage (shaking) à partir de la meilleure solution courante et applique une recherche locale 2-opt dessus\n",
    "- Si la nouvelle solution trouvée a un meilleur coût, mettre à jour la meilleure solution courante\n",
    "- Répéter le processus jusqu'à $\\texttt{t}\\_\\texttt{max}$"
   ]
  },
  {
   "cell_type": "code",
   "execution_count": 13,
   "metadata": {
    "colab": {},
    "colab_type": "code",
    "id": "ZQwCN2HB_m-q"
   },
   "outputs": [],
   "source": [
    "def vns(sol, k_max, t_max):\n",
    "    \"\"\"\n",
    "    Performs the VNS algorithm\n",
    "    \"\"\"\n",
    "    timeout = time.time() + t_max\n",
    "    best_sol = copy.deepcopy(sol)\n",
    "\n",
    "    while time.time() < timeout:\n",
    "        current_sol = copy.deepcopy(best_sol)\n",
    "        current_sol = shaking(current_sol, k_max)\n",
    "        current_sol = local_search_2opt(current_sol)\n",
    "        if current_sol.g < best_sol.g:\n",
    "            best_sol = copy.deepcopy(current_sol)\n",
    "    return best_sol"
   ]
  },
  {
   "cell_type": "markdown",
   "metadata": {
    "colab_type": "text",
    "id": "z5TPMN2XCkPc"
   },
   "source": [
    "### 3.2 Experiments\n",
    "\n",
    "Mettez en oeuvre la VNS sur les exemples d'illustration suivants et raportez les solutions obtenue:"
   ]
  },
  {
   "cell_type": "code",
   "execution_count": 18,
   "metadata": {
    "colab": {},
    "colab_type": "code",
    "id": "Ox0PScj5CTzq"
   },
   "outputs": [
    {
     "name": "stdout",
     "output_type": "stream",
     "text": [
      "27\n",
      "[0, 5, 13, 16, 6, 9, 4]\n",
      "--- 1.0015599727630615 seconds ---\n"
     ]
    }
   ],
   "source": [
    "# test 1  --------------  OPT. SOL. = 27\n",
    "places=[0, 5, 13, 16, 6, 9, 4]\n",
    "sol = initial_sol(graph=graph, places=places)\n",
    "start_time = time.time()\n",
    "vns_sol = vns(sol=sol, k_max=10, t_max=1)\n",
    "print(vns_sol.g)\n",
    "print(vns_sol.visited)\n",
    "print(\"--- %s seconds ---\" % (time.time() - start_time))"
   ]
  },
  {
   "cell_type": "code",
   "execution_count": 19,
   "metadata": {
    "colab": {},
    "colab_type": "code",
    "id": "a5IB2FbqCTz3"
   },
   "outputs": [
    {
     "name": "stdout",
     "output_type": "stream",
     "text": [
      "30\n",
      "[0, 1, 4, 5, 9, 13, 16, 18, 20, 19]\n",
      "--- 1.0031449794769287 seconds ---\n"
     ]
    }
   ],
   "source": [
    "#test 2  --------------  OPT. SOL. = 30\n",
    "places=[0, 1, 4, 9, 20, 18, 16, 5, 13, 19]\n",
    "sol = initial_sol(graph=graph, places=places)\n",
    "\n",
    "start_time = time.time()\n",
    "vns_sol = vns(sol=sol, k_max=10, t_max=1)\n",
    "print(vns_sol.g)\n",
    "print(vns_sol.visited)\n",
    "\n",
    "print(\"--- %s seconds ---\" % (time.time() - start_time))"
   ]
  },
  {
   "cell_type": "code",
   "execution_count": 20,
   "metadata": {
    "colab": {},
    "colab_type": "code",
    "id": "nkNwTmxPCTz9"
   },
   "outputs": [
    {
     "name": "stdout",
     "output_type": "stream",
     "text": [
      "26\n",
      "[0, 2, 7, 7, 9, 13, 15, 16, 11, 8, 4]\n",
      "--- 1.001326084136963 seconds ---\n"
     ]
    }
   ],
   "source": [
    "# test 3  --------------  OPT. SOL. = 26\n",
    "places=[0, 2, 7, 13, 11, 16, 15, 7, 9, 8, 4]\n",
    "sol = initial_sol(graph=graph, places=places)\n",
    "\n",
    "start_time = time.time()\n",
    "vns_sol = vns(sol=sol, k_max=10, t_max=1)\n",
    "print(vns_sol.g)\n",
    "print(vns_sol.visited)\n",
    "print(\"--- %s seconds ---\" % (time.time() - start_time))"
   ]
  },
  {
   "cell_type": "code",
   "execution_count": 22,
   "metadata": {},
   "outputs": [
    {
     "name": "stdout",
     "output_type": "stream",
     "text": [
      "40\n",
      "[0, 3, 5, 13, 15, 18, 20, 16, 11, 12, 14, 9, 4, 2, 1]\n",
      "--- 1.0038058757781982 seconds ---\n"
     ]
    }
   ],
   "source": [
    "# test 4  --------------  OPT. SOL. = 40\n",
    "places=[0, 2, 20, 3, 18, 12, 13, 5, 11, 16, 15, 4, 9, 14, 1]\n",
    "sol = initial_sol(graph=graph, places=places)\n",
    "\n",
    "start_time = time.time()\n",
    "vns_sol = vns(sol=sol, k_max=10, t_max=1)\n",
    "print(vns_sol.g)\n",
    "print(vns_sol.visited)\n",
    "print(\"--- %s seconds ---\" % (time.time() - start_time))"
   ]
  },
  {
   "cell_type": "markdown",
   "metadata": {},
   "source": [
    "## 4. BONUS (1 point)\n",
    "\n",
    "Expliquez dans quelle situation chacun des algorithmes développés est plus approprié (prenez en compte l’évolutivité du problème)"
   ]
  },
  {
   "cell_type": "markdown",
   "metadata": {},
   "source": [
    "## 5 Date de remise\n",
    "Tout devra être remis avant le 6 Octobre à 23h55. Tout travail en retard sera pénalisé d'une valeur de 10% par jour de retard."
   ]
  },
  {
   "cell_type": "code",
   "execution_count": 52,
   "metadata": {},
   "outputs": [
    {
     "data": {
      "text/plain": [
       "\" RÉPONSE À LA QUESTION BONUS:\\n\\n1. La recherche en largeur consiste à parcourir l'arbre étage par étage en commencant par la racine.\\n   Ce type de recherche peut être très efficace pour retrouver une solution rapidement lorsque les \\n   solutions peuvent se retrouver à n'importe quels noeuds de l'arbre. Par exemple, dans le cours,\\n   nous avons vue que c'est le cas pour le jeu des tuiles (8 chiffres) qui consiste à déplacer la tuile\\n   vide. Pour ce TP, nous savions que les solutions complètes allaient se trouver tout au bas de l'arbre\\n   de recherche. Cette technique n'est pas efficace dans notre cas comme le démontre nos résultats.\\n   Avec 11 attractions, nous avons un temps de calcul de 198 secondes, ce qui est très élevé.\\n   \\n2. L'algorithme A* est plus efficace que la recherche en largeur. Tout d'abord, elle peut permettre d'aller\\n   plus rapidement vers les feuilles de l'arbre, et elle garde tout de même une certaine évaluation des\\n   noeuds qui semblent les plus avantageux à explorer. A* est optimal (souvent utilisé) dans les problèmes \\n   de graphes et de recherche de plus court chemin. Sa complexité dépend sur l'heuristique comme montré dans\\n   nos expériences de la question 2. Dans notre cas, A* est beaucoup plus lent lorsqu'il utilise Dijkstra.\\n\\n3. Le VNS est un algorithme assez efficace pour le type de problème soulevé dans ce TP. Il permet de rouler\\n   l'algorithme pour un temps fixe. Ceci est un grand avantage puisqu'il permet de gérer les ressources et nous\\n   savons que dans certains problèmes, le temps de calcul peut être extremement grand. Comme on peut le voir dans\\n   nos résultats, en 1 seconde, nous avons été capable de trouver la solution optimale pour le test #3, ce qui \\n   nous avais pris 198 secondes avec la recherche en largeur.\\n\""
      ]
     },
     "execution_count": 52,
     "metadata": {},
     "output_type": "execute_result"
    }
   ],
   "source": [
    "''' RÉPONSE À LA QUESTION BONUS:\n",
    "\n",
    "1. La recherche en largeur consiste à parcourir l'arbre étage par étage en commencant par la racine.\n",
    "   Ce type de recherche peut être très efficace pour retrouver une solution rapidement lorsque les \n",
    "   solutions peuvent se retrouver à n'importe quels noeuds de l'arbre. Par exemple, dans le cours,\n",
    "   nous avons vue que c'est le cas pour le jeu des tuiles (8 chiffres) qui consiste à déplacer la tuile\n",
    "   vide. Pour ce TP, nous savions que les solutions complètes allaient se trouver tout au bas de l'arbre\n",
    "   de recherche. Cette technique n'est pas efficace dans notre cas comme le démontre nos résultats.\n",
    "   Avec 11 attractions, nous avons un temps de calcul de 198 secondes, ce qui est très élevé.\n",
    "   \n",
    "2. L'algorithme A* est plus efficace que la recherche en largeur. Tout d'abord, elle peut permettre d'aller\n",
    "   plus rapidement vers les feuilles de l'arbre, et elle garde tout de même une certaine évaluation des\n",
    "   noeuds qui semblent les plus avantageux à explorer. A* est optimal (souvent utilisé) dans les problèmes \n",
    "   de graphes et de recherche de plus court chemin. Sa complexité dépend sur l'heuristique comme montré dans\n",
    "   nos expériences de la question 2. Dans notre cas, A* est beaucoup plus lent lorsqu'il utilise Dijkstra.\n",
    "\n",
    "3. Le VNS est un algorithme assez efficace pour le type de problème soulevé dans ce TP. Il permet de rouler\n",
    "   l'algorithme pour un temps fixe. Ceci est un grand avantage puisqu'il permet de gérer les ressources et nous\n",
    "   savons que dans certains problèmes, le temps de calcul peut être extremement grand. Comme on peut le voir dans\n",
    "   nos résultats, en 1 seconde, nous avons été capable de trouver la solution optimale pour le test #3, ce qui \n",
    "   nous avais pris 198 secondes avec la recherche en largeur.\n",
    "'''"
   ]
  },
  {
   "cell_type": "code",
   "execution_count": null,
   "metadata": {},
   "outputs": [],
   "source": []
  }
 ],
 "metadata": {
  "colab": {
   "name": "tp1_2018.ipynb",
   "provenance": [],
   "version": "0.3.2"
  },
  "kernelspec": {
   "display_name": "Python 3",
   "language": "python",
   "name": "python3"
  },
  "language_info": {
   "codemirror_mode": {
    "name": "ipython",
    "version": 3
   },
   "file_extension": ".py",
   "mimetype": "text/x-python",
   "name": "python",
   "nbconvert_exporter": "python",
   "pygments_lexer": "ipython3",
   "version": "3.6.4"
  }
 },
 "nbformat": 4,
 "nbformat_minor": 1
}
